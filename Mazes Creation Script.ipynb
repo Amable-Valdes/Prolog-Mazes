{
 "cells": [
  {
   "cell_type": "code",
   "execution_count": 20,
   "metadata": {},
   "outputs": [
    {
     "ename": "AttributeError",
     "evalue": "'NoneType' object has no attribute 'shape'",
     "output_type": "error",
     "traceback": [
      "\u001b[1;31m---------------------------------------------------------------------------\u001b[0m",
      "\u001b[1;31mAttributeError\u001b[0m                            Traceback (most recent call last)",
      "\u001b[1;32m<ipython-input-20-baba5ac72244>\u001b[0m in \u001b[0;36m<module>\u001b[1;34m()\u001b[0m\n\u001b[0;32m     15\u001b[0m \u001b[1;33m\u001b[0m\u001b[0m\n\u001b[0;32m     16\u001b[0m \u001b[0mimg\u001b[0m \u001b[1;33m=\u001b[0m \u001b[0mcv2\u001b[0m\u001b[1;33m.\u001b[0m\u001b[0mimread\u001b[0m\u001b[1;33m(\u001b[0m\u001b[1;34m\"maze10.png\"\u001b[0m\u001b[1;33m)\u001b[0m\u001b[1;33m\u001b[0m\u001b[0m\n\u001b[1;32m---> 17\u001b[1;33m \u001b[1;32mprint\u001b[0m\u001b[1;33m(\u001b[0m\u001b[0mimg\u001b[0m\u001b[1;33m.\u001b[0m\u001b[0mshape\u001b[0m\u001b[1;33m)\u001b[0m\u001b[1;33m\u001b[0m\u001b[0m\n\u001b[0m\u001b[0;32m     18\u001b[0m \u001b[0mmaze\u001b[0m \u001b[1;33m=\u001b[0m \u001b[0mnp\u001b[0m\u001b[1;33m.\u001b[0m\u001b[0mones\u001b[0m\u001b[1;33m(\u001b[0m\u001b[1;33m[\u001b[0m\u001b[1;36m200\u001b[0m\u001b[1;33m,\u001b[0m\u001b[1;36m200\u001b[0m\u001b[1;33m]\u001b[0m\u001b[1;33m)\u001b[0m\u001b[1;33m\u001b[0m\u001b[0m\n\u001b[0;32m     19\u001b[0m \u001b[1;33m\u001b[0m\u001b[0m\n",
      "\u001b[1;31mAttributeError\u001b[0m: 'NoneType' object has no attribute 'shape'"
     ]
    }
   ],
   "source": [
    "import numpy as np\n",
    "import matplotlib.pyplot as plt\n",
    "from PIL import Image\n",
    "import glob\n",
    "import cv2\n",
    "import os,shutil\n",
    "import random\n",
    "import time\n",
    "from __future__ import print_function\n",
    "\n",
    "END = 3\n",
    "START = 2\n",
    "WALL = 0\n",
    "EMPTY = 1\n",
    "\n",
    "img = cv2.imread(\"maze10.png\")\n",
    "print(img.shape)\n",
    "maze = np.ones([200,200])\n",
    "\n",
    "def translate(vectorRGB):\n",
    "    if(vectorRGB[0] > 150 and vectorRGB[1] > 150 and vectorRGB[2] > 150):\n",
    "        return EMPTY\n",
    "    if(vectorRGB[0] < 150 and vectorRGB[1] > 150 and vectorRGB[2] < 150):\n",
    "        return END\n",
    "    if(vectorRGB[0] < 150 and vectorRGB[1] < 150 and vectorRGB[2] > 150):\n",
    "        return START\n",
    "    if(vectorRGB[0] == 0 and vectorRGB[1] == 0 and vectorRGB[2] == 0):\n",
    "        return WALL\n",
    "\n",
    "for i,row in enumerate(img):\n",
    "    for j,pixel in enumerate(row):\n",
    "        label = translate(pixel)\n",
    "        maze[i][j] = float(label)\n",
    "print(maze)\n",
    "print()\n",
    "print()\n",
    "\n",
    "file = open(\"maze0.txt\",\"w\") \n",
    "\n",
    "for i,row in enumerate(maze):\n",
    "    for j,value in enumerate(row):\n",
    "        if(value == START):\n",
    "            print(\"initial_state(  maze, p(%i,%i)  ).\"%(i,j) )\n",
    "            file.write(\"initial_state(  maze, p(%i,%i)  ).\\n\"%(i,j) ) \n",
    "\n",
    "print()\n",
    "file.write(\"\\n\")\n",
    "for i,row in enumerate(maze):\n",
    "    for j,value in enumerate(row):\n",
    "        if(value == END):\n",
    "            print(\"final_state(  maze, p(%d,%d)  ).\"%(j,i) )\n",
    "            file.write(\"final_state(  maze, p(%d,%d)  ).\\n\"%(j,i) )\n",
    "print()\n",
    "file.write(\"\\n\")\n",
    "print(\"c(X, Y, wall) :-\")\n",
    "file.write(\"c(X, Y, wall) :-\\n\")\n",
    "for i,row in enumerate(maze):\n",
    "    for j,value in enumerate(row):\n",
    "        if(value == WALL):\n",
    "            print(\"\\tX = %d, Y = %d\\n\\t;\"%(i,j) )\n",
    "            file.write(\"\\tX = %d, Y = %d\\n\\t;\\n\"%(i,j) )\n",
    "print(\"\\tX > %d; Y > %d.\"%(len(maze[0]), len(maze[0])) )  \n",
    "file.write(\"\\tX > %d; Y > %d.\\n\"%(len(maze[0]), len(maze[0])) )\n",
    "\n",
    "file.close()"
   ]
  },
  {
   "cell_type": "code",
   "execution_count": null,
   "metadata": {},
   "outputs": [],
   "source": []
  },
  {
   "cell_type": "code",
   "execution_count": null,
   "metadata": {},
   "outputs": [],
   "source": []
  },
  {
   "cell_type": "code",
   "execution_count": null,
   "metadata": {},
   "outputs": [],
   "source": []
  }
 ],
 "metadata": {
  "kernelspec": {
   "display_name": "Python 2",
   "language": "python",
   "name": "python2"
  },
  "language_info": {
   "codemirror_mode": {
    "name": "ipython",
    "version": 2
   },
   "file_extension": ".py",
   "mimetype": "text/x-python",
   "name": "python",
   "nbconvert_exporter": "python",
   "pygments_lexer": "ipython2",
   "version": "2.7.15"
  }
 },
 "nbformat": 4,
 "nbformat_minor": 2
}
